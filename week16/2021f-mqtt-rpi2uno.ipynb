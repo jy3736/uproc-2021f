{
 "cells": [
  {
   "cell_type": "markdown",
   "metadata": {},
   "source": [
    "<div style=\"text-align: center;\">\n",
    "<img src=\"images/stust.png\" alt=\"STUST\" class=\"center\" style=\"width: 900px;\"/>\n",
    "</div>\n",
    "\n",
    "<hr style=\"border:4px solid gray\"> </hr>\n",
    "\n",
    "<div style=\"text-align: center;\">    \n",
    "<br>    \n",
    "    \n",
    "# Traffic Light Device with Remote Control\n",
    "# MQTT + I2C\n",
    "\n",
    "</div>\n",
    "\n",
    "<br>\n",
    "<hr style=\"border:4px solid gray\"> </hr>\n"
   ]
  },
  {
   "cell_type": "markdown",
   "metadata": {},
   "source": [
    "<hr style=\"border:2px solid orange\"> </hr>\n",
    "\n",
    "# [Use MQTT with Raspberry Pi](http://emqx.io/blog/use-mqtt-with-raspberry-pi)\n",
    "\n",
    "### Install MQTT client library `paho-mqtt`\n",
    "> Source: https://www.emqx.io/blog/use-mqtt-with-raspberry-pi\n",
    "\n",
    "* Use the source code to install\n",
    ">```bash\n",
    "git clone https://github.com/eclipse/paho.mqtt.python \n",
    "cd paho.mqtt.python \n",
    "python3 setup.py install\n",
    ">```\n",
    "\n",
    "* Use pip3 to install\n",
    ">```\n",
    "pip3 install paho-mqtt\n",
    ">```\n",
    "\n",
    "### Free public MQTT broker provided by EMQ X:\n",
    "\n",
    ">```text\n",
    "Broker         : broker.emqx.io\n",
    "TCP Port       : 1883\n",
    "Websocket Port : 8083\n",
    ">```\n",
    "\n",
    "# [paho-mqtt Project Description](https://pypi.org/project/paho-mqtt/)\n",
    "> Source: https://pypi.org/project/paho-mqtt/"
   ]
  },
  {
   "cell_type": "markdown",
   "metadata": {},
   "source": [
    "<hr style=\"border:2px solid orange\"> </hr>\n",
    "\n",
    "# Control Arduino-UNO's LEDs via I2C\n",
    "\n",
    "## Arduino Sketch\n",
    "<hr style=\"border:0.5px solid gray\">\n",
    "\n",
    "```C++\n",
    "#include <Wire.h>\n",
    "\n",
    "#define I2C_ADDR 11\n",
    "#define R1 11\n",
    "#define Y1 12\n",
    "#define G1 13\n",
    "#define R2 5\n",
    "#define Y2 6\n",
    "#define G2 7\n",
    "\n",
    "\n",
    "#define MAP 55\n",
    "#define LOOP 66\n",
    "#define FOREVER 77\n",
    "\n",
    "const unsigned LEDS[] = {R1,Y1,G1,R2,Y2,G2};\n",
    "\n",
    "unsigned len;\n",
    "byte msg[20];\n",
    "byte cmd = 0;\n",
    "unsigned index = 0;\n",
    "unsigned cntdown = 0;\n",
    "\n",
    "// -----------------------------------------------------\n",
    "void setup() {\n",
    "  Wire.begin(I2C_ADDR);\n",
    "  Serial.begin(9600);\n",
    "  for(int i=0; i<6; i++)\n",
    "    pinMode(LEDS[i],OUTPUT); \n",
    "  Serial.print(\"MQTT + I2C Homework 01: \");\n",
    "  Serial.println(I2C_ADDR);\n",
    "  Serial.println(\"======================================\");\n",
    "  delay(1000);    \n",
    "  // register onReceive event services           \n",
    "  Wire.onReceive(irsReceive);\n",
    "}\n",
    "\n",
    "void disp_msg() {\n",
    "    Serial.print(\"Received data  : \");\n",
    "    for(int i=0; i<len; i++) {\n",
    "      Serial.print(msg[i]);\n",
    "      Serial.print(\" \");\n",
    "    }\n",
    "    Serial.println();  \n",
    "}\n",
    "\n",
    "void mapLED(byte dat) {\n",
    "  for(int i=0; i<6; i++)\n",
    "    digitalWrite(LEDS[i],dat&(0b00000001<<i)?HIGH:LOW);\n",
    "}\n",
    "\n",
    "// -----------------------------------------------------\n",
    "void loop() {\n",
    "  switch(cmd) {\n",
    "    case 0: break;\n",
    "    case MAP: \n",
    "        mapLED(msg[1]);\n",
    "        cmd = 0;\n",
    "      break;\n",
    "    case LOOP: if (cntdown<=0) {\n",
    "                cmd=0;\n",
    "                break;\n",
    "               }\n",
    "    case FOREVER:  \n",
    "        mapLED(msg[index++]);\n",
    "        delay(msg[index++]*100);\n",
    "        if (index>=len) {\n",
    "          index = 1;\n",
    "          cntdown--;\n",
    "        }\n",
    "      break;\n",
    "    default: break;\n",
    "  }\n",
    "  delay(1);\n",
    "}\n",
    "\n",
    "// -----------------------------------------------------\n",
    "void irsReceive(int nb) {\n",
    "  len = 0;\n",
    "  while (Wire.available())\n",
    "    msg[len++] = Wire.read();\n",
    "  cmd = msg[0];  \n",
    "  disp_msg();\n",
    "  index = 0;\n",
    "  cntdown = 0;\n",
    "  switch(cmd){\n",
    "    case LOOP: cntdown = msg[len-1];\n",
    "               len--;\n",
    "    case FOREVER: index = 1;\n",
    "  }\n",
    "}\n",
    "```"
   ]
  },
  {
   "cell_type": "markdown",
   "metadata": {},
   "source": [
    "<hr style=\"border:2px solid orange\"> </hr>\n",
    "\n",
    "# Control Arduino-UNO's LEDs via I2C\n",
    "\n",
    "## Raspberry Pi - Python\n",
    "<hr style=\"border:0.5px solid gray\">\n"
   ]
  },
  {
   "cell_type": "code",
   "execution_count": 63,
   "metadata": {},
   "outputs": [],
   "source": [
    "import smbus2 as smbus \n",
    "from time import sleep\n",
    "from random import randrange, random\n",
    "\n",
    "I2C_ADDR = 11\n",
    "PORT = 1\n",
    "I2C = smbus.SMBus(PORT)\n",
    "\n",
    "# LED Pin Mapped\n",
    "R1, Y1, G1 = 1, 2, 4\n",
    "R2, Y2, G2 = 8, 16, 32\n",
    "\n",
    "MAP = 55\n",
    "LOOP = 66\n",
    "FOREVER = 77\n",
    "\n",
    "# send LED-Control command to Arduino with parameters\n",
    "# cmd : commands\n",
    "# dat : additional parameters\n",
    "def toArduino(cmd, dat=[]):\n",
    "    global I2C\n",
    "    bytes_msg = bytes(dat)\n",
    "    print(f\"{cmd}\",end=\" \")\n",
    "    I2C.write_i2c_block_data(I2C_ADDR, cmd, bytes_msg)\n",
    "    #sleep(0.1)"
   ]
  },
  {
   "cell_type": "code",
   "execution_count": 76,
   "metadata": {},
   "outputs": [
    {
     "name": "stdout",
     "output_type": "stream",
     "text": [
      "77 "
     ]
    }
   ],
   "source": [
    "toArduino(FOREVER,[R1|G2,50,R1|Y1|Y2,5,G1|R2,50,Y1|R2|Y2,5])"
   ]
  },
  {
   "cell_type": "code",
   "execution_count": 77,
   "metadata": {},
   "outputs": [
    {
     "name": "stdout",
     "output_type": "stream",
     "text": [
      "66 "
     ]
    }
   ],
   "source": [
    "toArduino(LOOP,[0xff,5,0,5,5])"
   ]
  },
  {
   "cell_type": "code",
   "execution_count": 72,
   "metadata": {},
   "outputs": [
    {
     "name": "stdout",
     "output_type": "stream",
     "text": [
      "55 "
     ]
    }
   ],
   "source": [
    "toArduino(MAP,[7])"
   ]
  },
  {
   "cell_type": "markdown",
   "metadata": {},
   "source": [
    "<hr style=\"border:2px solid orange\"> </hr>\n",
    "\n",
    "# Control Arduino-UNO's LEDs via MQTT\n",
    "\n",
    "## Raspberry Pi - Python"
   ]
  },
  {
   "cell_type": "code",
   "execution_count": 78,
   "metadata": {},
   "outputs": [
    {
     "name": "stdout",
     "output_type": "stream",
     "text": [
      "Connected with result code 0\n",
      "TOPIC(P203-UNO) : MSG(EXIT)\n"
     ]
    }
   ],
   "source": [
    "import paho.mqtt.client as mqtt\n",
    "import threading, os\n",
    "from time import sleep\n",
    "\n",
    "TOPIC  = \"P203-UNO\"\n",
    "BROKER = \"broker.emqx.io\"\n",
    "PORT   = 1883\n",
    "Client = None\n",
    "\n",
    "# MQTT-Connected callback function \n",
    "def on_connect(client, userdata, flags, rc):\n",
    "    global TOPIC\n",
    "    print(\"Connected with result code \"+str(rc))\n",
    "\n",
    "# MQTT message retrieval callback function for the subscribed topics\n",
    "def on_message(client, userdata, msg):\n",
    "    topic = msg.topic\n",
    "    payload = msg.payload.decode('utf-8')\n",
    "    print(f\"TOPIC({topic}) : MSG({payload})\")\n",
    "    cmds = payload.split(',')\n",
    "    #print(cmds)\n",
    "    try:\n",
    "        if cmds[0]=='EXIT':\n",
    "            client.disconnect()\n",
    "        elif cmds[0]=='LOOP':\n",
    "            cmd = LOOP\n",
    "            par = [int(c) for c in cmds[1:]]\n",
    "            toArduino(cmd, par)\n",
    "        elif cmds[0]=='FOREVER':\n",
    "            cmd = FOREVER\n",
    "            par = [int(c) for c in cmds[1:]]\n",
    "            toArduino(cmd, par)\n",
    "        elif cmds[0]=='MAP':\n",
    "            cmd = MAP\n",
    "            par = [int(cmds[1])]\n",
    "            toArduino(cmd, par)\n",
    "    except:\n",
    "        print(\"Something wrong!\")\n",
    "            \n",
    "def connect_mqtt():\n",
    "    global Client\n",
    "    # Create MQTT client and connect to the broker    \n",
    "    Client = mqtt.Client()\n",
    "    Client.on_connect = on_connect\n",
    "    Client.on_message = on_message\n",
    "    # client.username_pw_set(\"user-name\",\"password\")\n",
    "    Client.connect(BROKER, PORT, keepalive=60)\n",
    "    # Clear the retained message send by Kittenblock\n",
    "    Client.publish(topic=TOPIC, payload=None, retain=True)\n",
    "    # Subscribe interested topic(s)\n",
    "    Ｃlient.subscribe(TOPIC)\n",
    "\n",
    "# Main Loop\n",
    "def main():\n",
    "    global Client\n",
    "    Client.loop_forever()\n",
    "\n",
    "if __name__ == \"__main__\":\n",
    "    connect_mqtt()\n",
    "    main()"
   ]
  },
  {
   "cell_type": "markdown",
   "metadata": {},
   "source": [
    "<hr style=\"border:0.5px solid gray\"> "
   ]
  },
  {
   "cell_type": "markdown",
   "metadata": {},
   "source": [
    "<br><hr style=\"border:3px solid red\"> </hr>\n",
    "<div style=\"text-align: left;\">         \n",
    "    \n",
    "# *Final Project - I2C Traffic-Light Station with MQTT Remote*\n",
    "\n",
    "</div>\n",
    "<hr style=\"border:3px solid red\"> </hr>\n",
    "\n",
    "## Project Description\n",
    "\n",
    "* This project requires 2 different development boards: `Raspberry Pi` and `Arduino-UNO`.\n",
    "* Arduino-UNO `I2C Traffic-Light Station` handles the following commands:\n",
    "    * *LED SET 1: (time unit : 0.1sec, e.g. td-p=10 => 1sec)*\n",
    "        * `1`  : RED Led off\n",
    "        * `2`  : RED Led on\n",
    "        * `3`  : YELLOW Led off\n",
    "        * `4`  : YELLOW Led on\n",
    "        * `5`  : GREEN Led off\n",
    "        * `6`  : GREEN Led on\n",
    "        * `11, [td-p]` : RED Led blink (period `td-p`, 50% duty-cycle) \n",
    "        * `12, [td-p]` : YELLOW Led blink (period `td-p`, 50% duty-cycle)\n",
    "        * `21, [td-r, td-ry, td-g, td-y]` : RED-to-GREEN sequence\n",
    "            * R(`td-r`) -> R+Y(`td-ry`) -> G(`td-g`) -> Y(`td-y`)\n",
    "        * `22, [td-r, td-ry, td-g, td-y]` : GREEN-to-RED sequence\n",
    "            * G(`td-g`) -> Y(`td-y`) -> R(`td-r`) -> R+Y(`td-ry`) \n",
    "\n",
    "    * *LED SET 2: (refer to LED SET 1, all `command code + 100`)*\n",
    "        * `101`  : RED Led off\n",
    "        * `102`  : RED Led on\n",
    "        * ...\n",
    "\n",
    "* Raspberry Pi `MQTT Remote Control` handles the following tasks:\n",
    "    * Perform self-test at startup\n",
    "    * Provide the minimum command set corresponding to your I2C Traffic-Light Station\n",
    "    * MQTT command format:\n",
    "        * simple command: `1`, `2`, `3`, `101`, `102`, ...\n",
    "        * command with paramaters: `11/10`, `21/50/5/60/5`, ...\n",
    "\n",
    "## Grading rules:\n",
    "* `50 points`  : Complete command 1 ~ 6 of LED SET 1 \n",
    "* `60 points`  : Complete command 1 ~ 6 of LED SET 1 and 2 \n",
    "* `70 points`  : Complete command 1 ~ 12 of LED SET 1 \n",
    "* `80 points`  : Complete command 1 ~ 12 of LED SET 1 and 2 \n",
    "* `90 points`  : Complete all commands of LED SET 1 \n",
    "* `100 points` : Complete all commands of LED SET 1 and 2 \n",
    "* *You must complete all required programs (C/C++ and Python) for I2C Traffic-Light Station and MQTT Remote Control to get full points.*\n",
    "\n"
   ]
  },
  {
   "cell_type": "markdown",
   "metadata": {},
   "source": [
    "<hr style=\"border:2px solid orange\"> </hr>\n",
    "<br>\n",
    "\n",
    "<div style=\"text-align: left;\">\n",
    "<img src=\"images/break-yang-tr.png\" alt=\"Break\" class=\"center\" style=\"width: 600px;\"/>\n",
    "</div>\n"
   ]
  },
  {
   "cell_type": "code",
   "execution_count": null,
   "metadata": {},
   "outputs": [],
   "source": []
  }
 ],
 "metadata": {
  "kernelspec": {
   "display_name": "Python 3",
   "language": "python",
   "name": "python3"
  },
  "language_info": {
   "codemirror_mode": {
    "name": "ipython",
    "version": 3
   },
   "file_extension": ".py",
   "mimetype": "text/x-python",
   "name": "python",
   "nbconvert_exporter": "python",
   "pygments_lexer": "ipython3",
   "version": "3.7.3"
  }
 },
 "nbformat": 4,
 "nbformat_minor": 4
}
